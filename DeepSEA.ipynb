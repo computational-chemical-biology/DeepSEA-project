{
  "cells": [
    {
      "cell_type": "markdown",
      "metadata": {
        "id": "view-in-github",
        "colab_type": "text"
      },
      "source": [
        "<a href=\"https://colab.research.google.com/github/tiagocabralborelli/DeepSEA-project/blob/main/DeepSEA.ipynb\" target=\"_parent\"><img src=\"https://colab.research.google.com/assets/colab-badge.svg\" alt=\"Open In Colab\"/></a>"
      ]
    },
    {
      "cell_type": "markdown",
      "metadata": {
        "id": "wGOl9hizS5ja"
      },
      "source": [
        "## **Attention**: before starting go to environment option on the toolbar and set up the GPU."
      ]
    },
    {
      "cell_type": "markdown",
      "metadata": {
        "id": "wqJvMm9LS5je"
      },
      "source": [
        "### Step one: install Anaconda to use conda commands on this notebook"
      ]
    },
    {
      "cell_type": "code",
      "execution_count": null,
      "metadata": {
        "id": "rl6-ukH82E7h"
      },
      "outputs": [],
      "source": [
        "%%bash\n",
        "wget https://repo.anaconda.com/archive/Anaconda3-2024.02-1-Linux-x86_64.sh\n",
        "bash Anaconda3-2024.02-1-Linux-x86_64.sh -b -f -p /usr/local"
      ]
    },
    {
      "cell_type": "code",
      "execution_count": null,
      "metadata": {
        "id": "iziR5-RM2l6X"
      },
      "outputs": [],
      "source": [
        "!conda"
      ]
    },
    {
      "cell_type": "markdown",
      "metadata": {
        "id": "uzcjFVKLS5ji"
      },
      "source": [
        "### Step two: clone DeepSEA repository in your workspace"
      ]
    },
    {
      "cell_type": "code",
      "execution_count": null,
      "metadata": {
        "id": "o4hoH92Uj8EY"
      },
      "outputs": [],
      "source": [
        "!git clone https://github.com/computational-chemical-biology/DeepSEA-project.git"
      ]
    },
    {
      "cell_type": "code",
      "execution_count": null,
      "metadata": {
        "id": "joHZ91a5lPQw"
      },
      "outputs": [],
      "source": [
        "!pwd"
      ]
    },
    {
      "cell_type": "markdown",
      "metadata": {
        "id": "7W0ys4msS5jj"
      },
      "source": [
        "To go the project's repository"
      ]
    },
    {
      "cell_type": "code",
      "execution_count": null,
      "metadata": {
        "id": "h1hf0bfTkdZj"
      },
      "outputs": [],
      "source": [
        "# prompt: Enters the DeePSEA-project directory to use it as base\n",
        "%cd DeepSEA-project"
      ]
    },
    {
      "cell_type": "markdown",
      "metadata": {
        "id": "DMUioFAVS5jj"
      },
      "source": [
        "and check if your in it"
      ]
    },
    {
      "cell_type": "code",
      "execution_count": null,
      "metadata": {
        "id": "rzCWzVIhkp1I"
      },
      "outputs": [],
      "source": [
        "!pwd"
      ]
    },
    {
      "cell_type": "markdown",
      "metadata": {
        "id": "RvxSeIlkS5jk"
      },
      "source": [
        "### Step three: install dependencies"
      ]
    },
    {
      "cell_type": "code",
      "execution_count": null,
      "metadata": {
        "collapsed": true,
        "id": "tJu7S_t9krpE"
      },
      "outputs": [],
      "source": [
        "!conda env create -q -f environment-gpu.yml"
      ]
    },
    {
      "cell_type": "code",
      "execution_count": null,
      "metadata": {
        "id": "5RVGBOo15DSM"
      },
      "outputs": [],
      "source": [
        "!conda env list"
      ]
    },
    {
      "cell_type": "markdown",
      "metadata": {
        "id": "rySPdmNtS5jk"
      },
      "source": [
        "### Step four: Check the installation\n",
        "\n",
        "If everything went righ, you must see the files test.table.tsv and test.features.png"
      ]
    },
    {
      "cell_type": "code",
      "execution_count": null,
      "metadata": {
        "id": "sUWpI8IX5EBX"
      },
      "outputs": [],
      "source": [
        "!conda run -n deepsea-project python DeepSEA.py run --input test/test.fasta --outname test.table"
      ]
    },
    {
      "cell_type": "code",
      "execution_count": null,
      "metadata": {
        "id": "1lIq4R-g65oM"
      },
      "outputs": [],
      "source": [
        "!conda run -n deepsea-project python DeepSEA.py features --input test/test.aln.fasta --outname test.features"
      ]
    },
    {
      "cell_type": "code",
      "execution_count": null,
      "metadata": {
        "id": "I6luPTB09dQM"
      },
      "outputs": [],
      "source": []
    }
  ],
  "metadata": {
    "accelerator": "GPU",
    "colab": {
      "gpuType": "T4",
      "provenance": [],
      "include_colab_link": true
    },
    "kernelspec": {
      "display_name": "Python 3",
      "name": "python3"
    },
    "language_info": {
      "name": "python"
    }
  },
  "nbformat": 4,
  "nbformat_minor": 0
}